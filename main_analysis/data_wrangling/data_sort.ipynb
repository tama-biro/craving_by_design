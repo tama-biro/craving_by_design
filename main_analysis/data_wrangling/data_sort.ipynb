{
 "cells": [
  {
   "cell_type": "code",
   "execution_count": null,
   "metadata": {},
   "outputs": [],
   "source": [
    "import os\n",
    "import pandas as pd\n",
    "import numpy as np"
   ]
  },
  {
   "cell_type": "code",
   "execution_count": null,
   "metadata": {},
   "outputs": [],
   "source": [
    "data_path = '../../data'\n",
    "\n",
    "cols1 = ['round_number', 'block_number', 'sequence_number', 'block_type', 'winning_probability',\n",
    "'aaron_mood', 'probability_aaron_show', 'reward_value', 'reaction_time', 'choice',\n",
    "'status_of_play', 'outcome', 'accumulated_outcomes', 'age', 'gender', 'major', \n",
    "'MCQ_Q1', 'MCQ_Q2', 'MCQ_Q3', 'MCQ_Q4', 'MCQ_Q5', 'MCQ_Q6', 'pre_game_strategy'] \n",
    "\n",
    "cols2 = ['wager', 'post_game_quiz_q1', 'post_game_quiz_q2', 'post_game_quiz_q3',\n",
    "'post_game_quiz_q3_other', 'post_game_quiz_correct', 'odds_guess_one_reply', 'odds_guess_one_did_win',\n",
    "'odds_guess_two_reply', 'odds_guess_two_did_win', 'odds_guess_three_reply', 'odds_guess_three_did_win',\n",
    "'id', 'treatment', 'craver']\n",
    "\n",
    "cols_full = cols1 + ['chance_guess'] + cols2\n",
    "\n",
    "data_full = pd.DataFrame(columns=cols_full)"
   ]
  },
  {
   "cell_type": "code",
   "execution_count": null,
   "metadata": {},
   "outputs": [],
   "source": [
    "ID = 1\n",
    "missed = []\n",
    "trials = []\n",
    "\n",
    "for treat in ['control', 'test']:\n",
    "    treat_path = os.path.join(data_path, treat)\n",
    "    for sub in [f for f in os.listdir(treat_path) if 'xls' in f]:\n",
    "        file_path = os.path.join(treat_path, sub)\n",
    "\n",
    "        temp = pd.read_excel(file_path, header = 0)\n",
    "\n",
    "        if 'T' not in sub and sum(temp['choice'] == 2) < 7 and temp.shape[0] > 629:\n",
    "            temp['id'] = ID\n",
    "            temp['treatment'] = treat\n",
    "\n",
    "            if temp.shape[1] == 35:\n",
    "                chance_guess = pd.Series([np.nan]*630)\n",
    "                temp = pd.concat([temp[cols1], chance_guess, temp[cols2]], axis=1)\n",
    "                temp.columns = cols_full\n",
    "\n",
    "            if temp.loc[0, 'wager'] != 0:\n",
    "                temp['craver'] = 0\n",
    "            else:\n",
    "                temp['craver'] = 1\n",
    "\n",
    "            data_full = pd.concat([data_full, temp])\n",
    "            ID += 1"
   ]
  },
  {
   "cell_type": "code",
   "execution_count": null,
   "metadata": {},
   "outputs": [],
   "source": [
    "data_full"
   ]
  },
  {
   "cell_type": "code",
   "execution_count": null,
   "metadata": {},
   "outputs": [],
   "source": [
    "data_full.to_csv('../../data/data_full.csv', index=False)"
   ]
  },
  {
   "cell_type": "code",
   "execution_count": null,
   "metadata": {},
   "outputs": [],
   "source": []
  }
 ],
 "metadata": {
  "kernelspec": {
   "display_name": "Python 3.9.7 ('oct-env')",
   "language": "python",
   "name": "python3"
  },
  "language_info": {
   "codemirror_mode": {
    "name": "ipython",
    "version": 3
   },
   "file_extension": ".py",
   "mimetype": "text/x-python",
   "name": "python",
   "nbconvert_exporter": "python",
   "pygments_lexer": "ipython3",
   "version": "3.9.12"
  },
  "vscode": {
   "interpreter": {
    "hash": "dbd10a7a30fb616b2bfe0fb130da60508dc4cc0cf82b536ea41c0668f0cb3238"
   }
  }
 },
 "nbformat": 4,
 "nbformat_minor": 2
}
