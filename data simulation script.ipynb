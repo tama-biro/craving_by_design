{
 "cells": [
  {
   "cell_type": "markdown",
   "metadata": {},
   "source": [
    "### Script to simulate datasets"
   ]
  },
  {
   "cell_type": "code",
   "execution_count": 1,
   "metadata": {},
   "outputs": [],
   "source": [
    "import numpy as np"
   ]
  },
  {
   "cell_type": "code",
   "execution_count": null,
   "metadata": {},
   "outputs": [],
   "source": [
    "# Setting up parameters\n",
    "lmbda = 2\n",
    "alpha_1, alpha_2 = 0.8, 0.8"
   ]
  },
  {
   "cell_type": "code",
   "execution_count": 2,
   "metadata": {},
   "outputs": [
    {
     "data": {
      "text/plain": [
       "2.718281828459045"
      ]
     },
     "execution_count": 2,
     "metadata": {},
     "output_type": "execute_result"
    }
   ],
   "source": [
    "# Version 1\n",
    "\n"
   ]
  },
  {
   "cell_type": "code",
   "execution_count": null,
   "metadata": {},
   "outputs": [],
   "source": [
    "# Running simulation\n",
    "\n",
    "win_chance = 0.8\n",
    "loss_chance = 1 - win_chance\n",
    "reward_value = 2\n",
    "uncertainty = 1\n",
    "beta = 1\n",
    "K = 0.5\n",
    "\n",
    "v = uncertainty*(win_chance*(reward_value-0.7)**alpha_2-lmbda*loss_chance*0.7**alpha_2)\n",
    "\n",
    "p_bet = 1/(1 + np.exp(beta*v))\n",
    "\n"
   ]
  }
 ],
 "metadata": {
  "interpreter": {
   "hash": "17973982fec9af107568ee40efb93c7cf93eafe0cc0f3f62b7de7783b5483d03"
  },
  "kernelspec": {
   "display_name": "Python 3.9.7 64-bit ('t-dab-environment': conda)",
   "language": "python",
   "name": "python3"
  },
  "language_info": {
   "codemirror_mode": {
    "name": "ipython",
    "version": 3
   },
   "file_extension": ".py",
   "mimetype": "text/x-python",
   "name": "python",
   "nbconvert_exporter": "python",
   "pygments_lexer": "ipython3",
   "version": "3.9.7"
  },
  "orig_nbformat": 4
 },
 "nbformat": 4,
 "nbformat_minor": 2
}
