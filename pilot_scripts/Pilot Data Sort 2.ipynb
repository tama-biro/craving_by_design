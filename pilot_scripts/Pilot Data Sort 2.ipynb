{
 "cells": [
  {
   "cell_type": "code",
   "execution_count": 3,
   "metadata": {},
   "outputs": [],
   "source": [
    "import os\n",
    "import pandas as pd"
   ]
  },
  {
   "cell_type": "code",
   "execution_count": 4,
   "metadata": {},
   "outputs": [],
   "source": [
    "# data_path = 'C:/Users/samue/Downloads/ALL_DATA_NEW/ALL_DATA_NEW'\n",
    "data_path = '/Users/sam/Downloads/ALL_DATA_NEW'\n",
    "\n",
    "colnames = ['round_number', 'block_number', 'sequence_number', 'block_type', 'winning_probability',\n",
    "'aaron_mood', 'probability_aaron_show', 'reward_value', 'reaction_time', 'choice',\n",
    "'status_of_play', 'outcome', 'accumulated_outcomes', 'age', 'gender', 'major', \n",
    "'MCQ_Q1', 'MCQ_Q2', 'MCQ_Q3', 'MCQ_Q4', 'MCQ_Q5', 'MCQ_Q6', 'pre_game_strategy', 'wager', 'post_game_quiz_q1', \n",
    "'post_game_quiz_q2', 'post_game_quiz_q3', 'post_game_quiz_q3_other', 'post_game_quiz_correct',\n",
    "'odds_guess_one_reply', 'odds_guess_one_did_win', 'odds_guess_two_reply', 'odds_guess_two_did_win',\n",
    "'odds_guess_three_reply', 'odds_guess_three_did_win', 'id', 'treatment', 'email', 'craver']\n",
    "\n",
    "data_full = pd.DataFrame(columns = colnames)\n",
    "\n",
    "ID = 1\n",
    "missed = []\n",
    "trials = []\n",
    "\n",
    "for exp in ['C', 'T']:\n",
    "    exp_path = os.path.join(data_path, exp)\n",
    "\n",
    "    for sub in [f for f in os.listdir(exp_path) if 'xls' in f]:\n",
    "        excel_df = os.path.join(exp_path, sub)\n",
    "        \n",
    "        temp = pd.read_excel(excel_df, header = 0)\n",
    "        \n",
    "        if exp == 'C':\n",
    "            t = 'control'\n",
    "        else:\n",
    "            t = 'test'\n",
    "        \n",
    "        if temp.shape[1] == 35 and 'T' not in sub and sum(temp['choice'] == 2) < 7 and temp.shape[0] > 599:\n",
    "\n",
    "            # if int(sub.split(\".xls\")[0][-3:]) > 160:\n",
    "            #     temp['batch'] = 1\n",
    "            # else:\n",
    "            #     temp['batch'] = 0\n",
    "\n",
    "            temp['id'] = ID\n",
    "            temp['treatment'] = t\n",
    "            temp['email'] = sub\n",
    "            \n",
    "            if temp.loc[0, 'wager'] != 0:\n",
    "                temp['craver'] = 0\n",
    "            else:\n",
    "                temp['craver'] = 1\n",
    "            \n",
    "            data_full = pd.concat([data_full, temp])\n",
    "            ID += 1"
   ]
  },
  {
   "cell_type": "code",
   "execution_count": 5,
   "metadata": {},
   "outputs": [],
   "source": [
    "data_full.to_csv('/Users/sam/Downloads/ALL_DATA_NEW/data_pilot.csv', index=False)"
   ]
  },
  {
   "cell_type": "code",
   "execution_count": 5,
   "metadata": {},
   "outputs": [],
   "source": [
    "data_full.to_csv('C:/Users/samue/Downloads/ALL_DATA_NEW/data_pilot.csv', index=False)"
   ]
  },
  {
   "cell_type": "code",
   "execution_count": null,
   "metadata": {},
   "outputs": [],
   "source": []
  }
 ],
 "metadata": {
  "kernelspec": {
   "display_name": "Python 3.9.7 ('oct-env')",
   "language": "python",
   "name": "python3"
  },
  "language_info": {
   "codemirror_mode": {
    "name": "ipython",
    "version": 3
   },
   "file_extension": ".py",
   "mimetype": "text/x-python",
   "name": "python",
   "nbconvert_exporter": "python",
   "pygments_lexer": "ipython3",
   "version": "3.9.12"
  },
  "orig_nbformat": 4,
  "vscode": {
   "interpreter": {
    "hash": "dbd10a7a30fb616b2bfe0fb130da60508dc4cc0cf82b536ea41c0668f0cb3238"
   }
  }
 },
 "nbformat": 4,
 "nbformat_minor": 2
}
