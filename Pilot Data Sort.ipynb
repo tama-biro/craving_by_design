{
 "cells": [
  {
   "cell_type": "code",
   "execution_count": 1,
   "metadata": {},
   "outputs": [],
   "source": [
    "import os\n",
    "import pandas as pd\n",
    "import scipy.stats"
   ]
  },
  {
   "cell_type": "code",
   "execution_count": 7,
   "metadata": {},
   "outputs": [],
   "source": [
    "data_path = 'C:/Users/samue/Downloads/Data Pilot CBD'\n",
    "\n",
    "colnames = ['round_number', 'block_number', 'sequence_number', 'block_type', 'winning_probability',\n",
    "'aaron_mood', 'probability_aaron_show', 'reward_value', 'reaction_time', 'choice',\n",
    "'status_of_play', 'outcome', 'accumulated_outcomes', 'age', 'gender', 'major', \n",
    "'MCQ_Q1', 'MCQ_Q2', 'MCQ_Q3', 'pre_game_strategy', 'wager', 'post_game_quiz_q1', \n",
    "'post_game_quiz_q2', 'post_game_quiz_q3', 'post_game_quiz_q3_other', 'post_game_quiz_correct',\n",
    "'odds_guess_one_reply', 'odds_guess_one_did_win', 'odds_guess_two_reply', 'odds_guess_two_did_win',\n",
    "'odds_guess_three_reply', 'odds_guess_three_did_win', 'id', 'treatment', 'email', 'craver']\n",
    "\n",
    "data_full = pd.DataFrame(columns = colnames)\n",
    "\n",
    "ID = 1\n",
    "missed = []\n",
    "trials = []\n",
    "for treat in [f.name for f in os.scandir(data_path) if f.is_dir()]:\n",
    "    if treat == 'Test':\n",
    "        second_dir = '/data_game'\n",
    "    else:\n",
    "        second_dir = ''\n",
    "        \n",
    "    df_path = data_path + '/' + treat + second_dir\n",
    "    \n",
    "    for sub in [f for f in os.listdir(df_path) if 'xls' in f]:\n",
    "        excel_df = df_path + '/' + sub\n",
    "        \n",
    "        temp = pd.read_excel(excel_df, header = 0)\n",
    "        \n",
    "        if 'control' in sub:\n",
    "            t = 'control'\n",
    "        else:\n",
    "            t = 'test'\n",
    "            \n",
    "#         if temp.shape[0] < 600 and sum(temp['choice'] == 2) > 0:\n",
    "#             print(f'{sub}: number of trials is {temp.shape[0]}')\n",
    "#             missed.append(sum(temp['choice'] == 2))\n",
    "#             trials.append(temp.shape[0])\n",
    "        \n",
    "        if temp.shape[1] == 32 and 'T' not in sub and sum(temp['choice'] == 2) < 7 and temp.shape[0] > 599:\n",
    "            temp['id'] = ID\n",
    "            temp['treatment'] = t\n",
    "            temp['email'] = sub\n",
    "            \n",
    "            if temp.loc[0, 'wager'] != 0:\n",
    "                temp['craver'] = 0\n",
    "            else:\n",
    "                temp['craver'] = 1\n",
    "            \n",
    "            data_full = pd.concat([data_full, temp])\n",
    "            ID += 1"
   ]
  },
  {
   "cell_type": "code",
   "execution_count": 8,
   "metadata": {},
   "outputs": [
    {
     "data": {
      "text/plain": [
       "(45600, 36)"
      ]
     },
     "execution_count": 8,
     "metadata": {},
     "output_type": "execute_result"
    }
   ],
   "source": [
    "data_full.shape"
   ]
  },
  {
   "cell_type": "code",
   "execution_count": 10,
   "metadata": {},
   "outputs": [
    {
     "data": {
      "text/plain": [
       "(0.060010546972470165, 0.8071991536693806)"
      ]
     },
     "execution_count": 10,
     "metadata": {},
     "output_type": "execute_result"
    }
   ],
   "source": [
    "scipy.stats.pearsonr(missed, trials)"
   ]
  },
  {
   "cell_type": "code",
   "execution_count": 9,
   "metadata": {},
   "outputs": [
    {
     "data": {
      "text/plain": [
       "19"
      ]
     },
     "execution_count": 9,
     "metadata": {},
     "output_type": "execute_result"
    }
   ],
   "source": [
    "len(missed)"
   ]
  },
  {
   "cell_type": "code",
   "execution_count": 9,
   "metadata": {},
   "outputs": [],
   "source": [
    "data_full.to_csv(data_path + '/data_combined.csv', index = False, na_rep='NA')"
   ]
  },
  {
   "cell_type": "code",
   "execution_count": null,
   "metadata": {},
   "outputs": [],
   "source": []
  }
 ],
 "metadata": {
  "kernelspec": {
   "display_name": "Python 3",
   "language": "python",
   "name": "python3"
  },
  "language_info": {
   "codemirror_mode": {
    "name": "ipython",
    "version": 3
   },
   "file_extension": ".py",
   "mimetype": "text/x-python",
   "name": "python",
   "nbconvert_exporter": "python",
   "pygments_lexer": "ipython3",
   "version": "3.9.7"
  }
 },
 "nbformat": 4,
 "nbformat_minor": 4
}
