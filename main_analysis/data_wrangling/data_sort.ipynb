{
 "cells": [
  {
   "cell_type": "code",
   "execution_count": 1,
   "metadata": {},
   "outputs": [],
   "source": [
    "import os\n",
    "import pandas as pd\n",
    "import numpy as np"
   ]
  },
  {
   "cell_type": "code",
   "execution_count": 2,
   "metadata": {},
   "outputs": [],
   "source": [
    "data_path = '../../data'\n",
    "\n",
    "cols1 = ['round_number', 'block_number', 'sequence_number', 'block_type', 'winning_probability',\n",
    "'aaron_mood', 'probability_aaron_show', 'reward_value', 'reaction_time', 'choice',\n",
    "'status_of_play', 'outcome', 'accumulated_outcomes', 'age', 'gender', 'major', \n",
    "'MCQ_Q1', 'MCQ_Q2', 'MCQ_Q3', 'MCQ_Q4', 'MCQ_Q5', 'MCQ_Q6'] \n",
    "\n",
    "cols2 = ['pre_game_strategy', 'wager', 'post_game_quiz_q1', 'post_game_quiz_q2', 'post_game_quiz_q3',\n",
    "'post_game_quiz_q3_other', 'post_game_quiz_correct', 'odds_guess_one_reply', 'odds_guess_one_did_win',\n",
    "'odds_guess_two_reply', 'odds_guess_two_did_win', 'odds_guess_three_reply', 'odds_guess_three_did_win',\n",
    "'filename', 'id', 'treatment', 'craver']\n",
    "\n",
    "cols_full = cols1 + ['chance_guess'] + cols2\n",
    "\n",
    "data_full = pd.DataFrame(columns=cols_full)"
   ]
  },
  {
   "cell_type": "code",
   "execution_count": 3,
   "metadata": {},
   "outputs": [
    {
     "name": "stdout",
     "output_type": "stream",
     "text": [
      "katie.ringdahl2002@gmail.com_control_id-228.xls, 0, (455, 33)\n"
     ]
    }
   ],
   "source": [
    "ID = 1\n",
    "missed = []\n",
    "trials = []\n",
    "\n",
    "for treat in ['control', 'test']:\n",
    "    treat_path = os.path.join(data_path, treat)\n",
    "    for sub in [f for f in os.listdir(treat_path) if 'xls' in f]:\n",
    "        file_path = os.path.join(treat_path, sub)\n",
    "\n",
    "        temp = pd.read_excel(file_path, header = 0)\n",
    "\n",
    "        if temp.shape[0] < 630:\n",
    "            print(f'{sub}, {sum(temp[\"choice\"] == 2)}, {temp.shape}')\n",
    "\n",
    "        if 'T' not in sub and sum(temp['choice'] == 2) < 7:\n",
    "            temp['filename'] = sub\n",
    "            temp['id'] = ID\n",
    "            temp['treatment'] = treat\n",
    "\n",
    "            if temp.loc[0, 'wager'] != 0:\n",
    "                temp['craver'] = 0\n",
    "            else:\n",
    "                temp['craver'] = 1\n",
    "\n",
    "            if temp.shape[1] == 38:\n",
    "                chance_guess = pd.Series([np.nan]*len(temp))\n",
    "                temp = pd.concat([temp[cols1], chance_guess, temp[cols2]], axis=1)\n",
    "                temp.columns = cols_full\n",
    "            if 'MCQ_Q4' not in temp.columns:\n",
    "                mcq_data = pd.DataFrame({'MCQ_Q4': [1]*len(temp),\n",
    "                                         'MCQ_Q5': [1]*len(temp),\n",
    "                                         'MCQ_Q6': [1]*len(temp)})\n",
    "                cols1_mcq = [item for item in cols1 if item not in ['MCQ_Q4', 'MCQ_Q5', 'MCQ_Q6']]\n",
    "                cols1_mcq.append('chance_guess')\n",
    "                temp = pd.concat([temp[cols1_mcq], mcq_data, temp[cols2]], axis=1)\n",
    "                temp.columns = cols_full\n",
    "\n",
    "            data_full = pd.concat([data_full, temp])\n",
    "            ID += 1\n",
    "        else:\n",
    "            print(f'{sub}, {sum(temp[\"choice\"] == 2)}, {temp.shape}')"
   ]
  },
  {
   "cell_type": "code",
   "execution_count": 4,
   "metadata": {},
   "outputs": [
    {
     "data": {
      "text/plain": [
       "(125195, 40)"
      ]
     },
     "execution_count": 4,
     "metadata": {},
     "output_type": "execute_result"
    }
   ],
   "source": [
    "data_full.shape"
   ]
  },
  {
   "cell_type": "code",
   "execution_count": 5,
   "metadata": {},
   "outputs": [],
   "source": [
    "data_full.to_csv(\n",
    "    os.path.join(data_path, 'data_full.csv'), index=False)"
   ]
  },
  {
   "cell_type": "code",
   "execution_count": null,
   "metadata": {},
   "outputs": [],
   "source": []
  }
 ],
 "metadata": {
  "kernelspec": {
   "display_name": "t-dab-environment",
   "language": "python",
   "name": "python3"
  },
  "language_info": {
   "codemirror_mode": {
    "name": "ipython",
    "version": 3
   },
   "file_extension": ".py",
   "mimetype": "text/x-python",
   "name": "python",
   "nbconvert_exporter": "python",
   "pygments_lexer": "ipython3",
   "version": "3.9.13"
  },
  "vscode": {
   "interpreter": {
    "hash": "4c2af89399d30c91d2e566ab8110ae6d04c94520d96a5f9e45acefad553bee11"
   }
  }
 },
 "nbformat": 4,
 "nbformat_minor": 2
}
