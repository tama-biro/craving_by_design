{
 "cells": [
  {
   "cell_type": "code",
   "execution_count": null,
   "metadata": {},
   "outputs": [],
   "source": [
    "import os\n",
    "import pandas as pd\n",
    "import numpy as np"
   ]
  },
  {
   "cell_type": "markdown",
   "metadata": {},
   "source": [
    "Check shapes"
   ]
  },
  {
   "cell_type": "code",
   "execution_count": null,
   "metadata": {},
   "outputs": [],
   "source": [
    "shapes = []\n",
    "data_folder = '../../data'\n",
    "\n",
    "\n",
    "for treat in ['control', 'test']:\n",
    "    treat_path = os.path.join(data_folder, treat)\n",
    "    for file in os.listdir(treat_path):\n",
    "        filepath = os.path.join(treat_path, file)\n",
    "        data = pd.read_excel(filepath)\n",
    "        shapes.append(data.shape)"
   ]
  },
  {
   "cell_type": "code",
   "execution_count": null,
   "metadata": {},
   "outputs": [],
   "source": [
    "shapes"
   ]
  },
  {
   "cell_type": "markdown",
   "metadata": {},
   "source": [
    "Check columns of data files"
   ]
  },
  {
   "cell_type": "code",
   "execution_count": null,
   "metadata": {},
   "outputs": [],
   "source": [
    "data_folder = '../../data'\n",
    "long = 0\n",
    "\n",
    "\n",
    "for treat in ['control', 'test']:\n",
    "    treat_path = os.path.join(data_folder, treat)\n",
    "    for file in os.listdir(treat_path):\n",
    "        filepath = os.path.join(treat_path, file)\n",
    "        data = pd.read_excel(filepath)\n",
    "        if data.shape[1] == 36:\n",
    "            if not long:\n",
    "                print(data.columns)\n",
    "            long = 1\n",
    "        elif data.shape[1] == 35:\n",
    "            if long:\n",
    "                print(data.columns)\n",
    "                break"
   ]
  },
  {
   "cell_type": "markdown",
   "metadata": {},
   "source": [
    "Check number of missing values per file"
   ]
  },
  {
   "cell_type": "code",
   "execution_count": null,
   "metadata": {},
   "outputs": [],
   "source": [
    "nas = []\n",
    "data_folder = '../../data'\n",
    "\n",
    "\n",
    "for treat in ['control', 'test']:\n",
    "    treat_path = os.path.join(data_folder, treat)\n",
    "    for file in os.listdir(treat_path):\n",
    "        filepath = os.path.join(treat_path, file)\n",
    "        data = pd.read_excel(filepath)\n",
    "        nas.append(data.isnull().sum())"
   ]
  },
  {
   "cell_type": "code",
   "execution_count": null,
   "metadata": {},
   "outputs": [],
   "source": [
    "pd.DataFrame(nas)"
   ]
  },
  {
   "cell_type": "code",
   "execution_count": null,
   "metadata": {},
   "outputs": [],
   "source": []
  }
 ],
 "metadata": {
  "kernelspec": {
   "display_name": "Python 3.9.12 ('oct-env')",
   "language": "python",
   "name": "python3"
  },
  "language_info": {
   "codemirror_mode": {
    "name": "ipython",
    "version": 3
   },
   "file_extension": ".py",
   "mimetype": "text/x-python",
   "name": "python",
   "nbconvert_exporter": "python",
   "pygments_lexer": "ipython3",
   "version": "3.9.12"
  },
  "vscode": {
   "interpreter": {
    "hash": "dbd10a7a30fb616b2bfe0fb130da60508dc4cc0cf82b536ea41c0668f0cb3238"
   }
  }
 },
 "nbformat": 4,
 "nbformat_minor": 2
}
